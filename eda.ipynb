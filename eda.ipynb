{
 "cells": [
  {
   "cell_type": "markdown",
   "id": "7cb5ba19",
   "metadata": {},
   "source": [
    "# Análise de Risco Financeiro nas Big 4 (2020–2025)\n",
    "\n",
    "Este projeto utiliza um conjunto de dados exclusivo que oferece uma visão aprofundada sobre **avaliação de risco financeiro**, **violações de conformidade** e **tendências de detecção de fraudes** nas quatro maiores firmas de consultoria do mundo — **Ernst & Young (EY), PwC, Deloitte e KPMG** — no período de **2020 a 2025**.\n",
    "\n",
    "## Sobre o Dataset\n",
    "\n",
    "O conjunto de dados contempla as seguintes métricas-chave:\n",
    "\n",
    "- Número de auditorias realizadas  \n",
    "- Casos classificados como de alto risco  \n",
    "- Casos de fraude detectados  \n",
    "- Violações de conformidade  \n",
    "- Carga de trabalho dos auditores  \n",
    "- Índices de satisfação dos clientes  \n",
    "- Impacto da IA (Inteligência Artificial) nas auditorias\n",
    "\n",
    "Além disso, permite comparações entre diferentes setores da economia, como:\n",
    "\n",
    "- Finanças  \n",
    "- Tecnologia  \n",
    "- Varejo  \n",
    "- Saúde  \n",
    "\n",
    "## Por que usar este Dataset?\n",
    "\n",
    "**Único e Relevante:** Focado exclusivamente nas Big 4, o que o torna altamente valioso para profissionais da área financeira.  \n",
    "**IA nas Auditorias:** Permite explorar como a Inteligência Artificial está transformando a detecção de riscos e a conformidade regulatória.  \n",
    "**Comparação Setorial:** Analise o desempenho das auditorias em diferentes indústrias.  \n",
    "**Carga de Trabalho x Qualidade:** Avalie como o volume de trabalho impacta a eficácia das auditorias e a conformidade das empresas.\n"
   ]
  },
  {
   "cell_type": "markdown",
   "id": "7dc3b10c",
   "metadata": {},
   "source": [
    "# Importação das Bibliotecas"
   ]
  },
  {
   "cell_type": "code",
   "execution_count": 9,
   "id": "79d87903",
   "metadata": {},
   "outputs": [],
   "source": [
    "import pandas as pd\n",
    "import numpy as np\n",
    "\n",
    "import matplotlib.pyplot as plt\n",
    "import seaborn as sns"
   ]
  },
  {
   "cell_type": "markdown",
   "id": "866c790f",
   "metadata": {},
   "source": [
    "# Carregamento do Dataset"
   ]
  },
  {
   "cell_type": "code",
   "execution_count": 10,
   "id": "c4d19d19",
   "metadata": {},
   "outputs": [],
   "source": [
    "df = pd.read_csv(\"data/big4_financial_risk_compliance.csv\")"
   ]
  },
  {
   "cell_type": "markdown",
   "id": "51c32ccb",
   "metadata": {},
   "source": [
    "# Visualização do Dataset"
   ]
  },
  {
   "cell_type": "code",
   "execution_count": 11,
   "id": "32be6095",
   "metadata": {},
   "outputs": [
    {
     "data": {
      "text/html": [
       "<div>\n",
       "<style scoped>\n",
       "    .dataframe tbody tr th:only-of-type {\n",
       "        vertical-align: middle;\n",
       "    }\n",
       "\n",
       "    .dataframe tbody tr th {\n",
       "        vertical-align: top;\n",
       "    }\n",
       "\n",
       "    .dataframe thead th {\n",
       "        text-align: right;\n",
       "    }\n",
       "</style>\n",
       "<table border=\"1\" class=\"dataframe\">\n",
       "  <thead>\n",
       "    <tr style=\"text-align: right;\">\n",
       "      <th></th>\n",
       "      <th>Year</th>\n",
       "      <th>Firm_Name</th>\n",
       "      <th>Total_Audit_Engagements</th>\n",
       "      <th>High_Risk_Cases</th>\n",
       "      <th>Compliance_Violations</th>\n",
       "      <th>Fraud_Cases_Detected</th>\n",
       "      <th>Industry_Affected</th>\n",
       "      <th>Total_Revenue_Impact</th>\n",
       "      <th>AI_Used_for_Auditing</th>\n",
       "      <th>Employee_Workload</th>\n",
       "      <th>Audit_Effectiveness_Score</th>\n",
       "      <th>Client_Satisfaction_Score</th>\n",
       "    </tr>\n",
       "  </thead>\n",
       "  <tbody>\n",
       "    <tr>\n",
       "      <th>0</th>\n",
       "      <td>2020</td>\n",
       "      <td>PwC</td>\n",
       "      <td>2829</td>\n",
       "      <td>51</td>\n",
       "      <td>123</td>\n",
       "      <td>39</td>\n",
       "      <td>Healthcare</td>\n",
       "      <td>114.24</td>\n",
       "      <td>No</td>\n",
       "      <td>57</td>\n",
       "      <td>5.8</td>\n",
       "      <td>8.4</td>\n",
       "    </tr>\n",
       "    <tr>\n",
       "      <th>1</th>\n",
       "      <td>2022</td>\n",
       "      <td>Deloitte</td>\n",
       "      <td>3589</td>\n",
       "      <td>185</td>\n",
       "      <td>30</td>\n",
       "      <td>60</td>\n",
       "      <td>Healthcare</td>\n",
       "      <td>156.98</td>\n",
       "      <td>Yes</td>\n",
       "      <td>58</td>\n",
       "      <td>5.3</td>\n",
       "      <td>6.7</td>\n",
       "    </tr>\n",
       "    <tr>\n",
       "      <th>2</th>\n",
       "      <td>2020</td>\n",
       "      <td>PwC</td>\n",
       "      <td>2438</td>\n",
       "      <td>212</td>\n",
       "      <td>124</td>\n",
       "      <td>97</td>\n",
       "      <td>Healthcare</td>\n",
       "      <td>131.83</td>\n",
       "      <td>No</td>\n",
       "      <td>76</td>\n",
       "      <td>6.1</td>\n",
       "      <td>6.2</td>\n",
       "    </tr>\n",
       "    <tr>\n",
       "      <th>3</th>\n",
       "      <td>2021</td>\n",
       "      <td>PwC</td>\n",
       "      <td>2646</td>\n",
       "      <td>397</td>\n",
       "      <td>55</td>\n",
       "      <td>97</td>\n",
       "      <td>Healthcare</td>\n",
       "      <td>229.11</td>\n",
       "      <td>No</td>\n",
       "      <td>60</td>\n",
       "      <td>5.1</td>\n",
       "      <td>8.6</td>\n",
       "    </tr>\n",
       "    <tr>\n",
       "      <th>4</th>\n",
       "      <td>2020</td>\n",
       "      <td>PwC</td>\n",
       "      <td>2680</td>\n",
       "      <td>216</td>\n",
       "      <td>99</td>\n",
       "      <td>46</td>\n",
       "      <td>Healthcare</td>\n",
       "      <td>48.00</td>\n",
       "      <td>No</td>\n",
       "      <td>51</td>\n",
       "      <td>9.1</td>\n",
       "      <td>6.7</td>\n",
       "    </tr>\n",
       "  </tbody>\n",
       "</table>\n",
       "</div>"
      ],
      "text/plain": [
       "   Year Firm_Name  Total_Audit_Engagements  High_Risk_Cases  \\\n",
       "0  2020       PwC                     2829               51   \n",
       "1  2022  Deloitte                     3589              185   \n",
       "2  2020       PwC                     2438              212   \n",
       "3  2021       PwC                     2646              397   \n",
       "4  2020       PwC                     2680              216   \n",
       "\n",
       "   Compliance_Violations  Fraud_Cases_Detected Industry_Affected  \\\n",
       "0                    123                    39        Healthcare   \n",
       "1                     30                    60        Healthcare   \n",
       "2                    124                    97        Healthcare   \n",
       "3                     55                    97        Healthcare   \n",
       "4                     99                    46        Healthcare   \n",
       "\n",
       "   Total_Revenue_Impact AI_Used_for_Auditing  Employee_Workload  \\\n",
       "0                114.24                   No                 57   \n",
       "1                156.98                  Yes                 58   \n",
       "2                131.83                   No                 76   \n",
       "3                229.11                   No                 60   \n",
       "4                 48.00                   No                 51   \n",
       "\n",
       "   Audit_Effectiveness_Score  Client_Satisfaction_Score  \n",
       "0                        5.8                        8.4  \n",
       "1                        5.3                        6.7  \n",
       "2                        6.1                        6.2  \n",
       "3                        5.1                        8.6  \n",
       "4                        9.1                        6.7  "
      ]
     },
     "execution_count": 11,
     "metadata": {},
     "output_type": "execute_result"
    }
   ],
   "source": [
    "df.head()"
   ]
  },
  {
   "cell_type": "markdown",
   "id": "172df9fb",
   "metadata": {},
   "source": [
    "# Dicionário dos Dados"
   ]
  },
  {
   "cell_type": "markdown",
   "id": "6e1880c9",
   "metadata": {},
   "source": [
    "| Nome da Coluna (Inglês)             | Tradução (Português)                       | Significado                                                                                   |\n",
    "|-------------------------------------|--------------------------------------------|-----------------------------------------------------------------------------------------------|\n",
    "| `Year`                              | **Ano**                                    | Ano em que os dados foram registrados (de 2020 a 2025).                                       |\n",
    "| `Firm_Name`                         | **Nome da Firma**                          | Nome da empresa de auditoria (EY, PwC, Deloitte ou KPMG).                                     |\n",
    "| `Total_Audit_Engagements`           | **Total de Auditorias Realizadas**         | Número total de auditorias conduzidas pela firma no ano.                                      |\n",
    "| `High_Risk_Cases`                   | **Casos de Alto Risco**                    | Quantidade de auditorias que foram classificadas como de alto risco.                          |\n",
    "| `Compliance_Violations`            | **Violações de Conformidade**              | Número de violações às normas ou regulamentações detectadas nas auditorias.                   |\n",
    "| `Fraud_Cases_Detected`             | **Casos de Fraude Detectados**             | Quantidade de fraudes descobertas durante as auditorias.                                      |\n",
    "| `Industry_Affected`                | **Setor Afetado**                          | Setor da empresa auditada (ex: Finanças, Varejo, Saúde, Tecnologia, etc.).                    |\n",
    "| `Total_Revenue_Impact`             | **Impacto Total na Receita (USD)**         | Valor estimado da perda financeira causada pelas violações e fraudes (em dólares).            |\n",
    "| `AI_Used_for_Auditing`            | **Uso de IA na Auditoria (Sim/Não ou Índice)** | Indica se a auditoria utilizou recursos de Inteligência Artificial, ou grau de utilização.   |\n",
    "| `Employee_Workload`                | **Carga de Trabalho dos Funcionários**     | Média de horas trabalhadas por auditor no período.                                            |\n",
    "| `Audit_Effectiveness_Score`        | **Índice de Efetividade da Auditoria**     | Nota atribuída à qualidade e eficácia das auditorias, baseada em critérios internos ou externos.|\n",
    "| `Client_Satisfaction_Score`        | **Índice de Satisfação do Cliente**        | Avaliação média dos clientes auditados quanto à qualidade do serviço prestado.                |\n"
   ]
  },
  {
   "cell_type": "markdown",
   "id": "3b31b0b8",
   "metadata": {},
   "source": [
    "# Infos dos Dados"
   ]
  },
  {
   "cell_type": "code",
   "execution_count": 12,
   "id": "f1fbead0",
   "metadata": {},
   "outputs": [
    {
     "name": "stdout",
     "output_type": "stream",
     "text": [
      "<class 'pandas.core.frame.DataFrame'>\n",
      "RangeIndex: 100 entries, 0 to 99\n",
      "Data columns (total 12 columns):\n",
      " #   Column                     Non-Null Count  Dtype  \n",
      "---  ------                     --------------  -----  \n",
      " 0   Year                       100 non-null    int64  \n",
      " 1   Firm_Name                  100 non-null    object \n",
      " 2   Total_Audit_Engagements    100 non-null    int64  \n",
      " 3   High_Risk_Cases            100 non-null    int64  \n",
      " 4   Compliance_Violations      100 non-null    int64  \n",
      " 5   Fraud_Cases_Detected       100 non-null    int64  \n",
      " 6   Industry_Affected          100 non-null    object \n",
      " 7   Total_Revenue_Impact       100 non-null    float64\n",
      " 8   AI_Used_for_Auditing       100 non-null    object \n",
      " 9   Employee_Workload          100 non-null    int64  \n",
      " 10  Audit_Effectiveness_Score  100 non-null    float64\n",
      " 11  Client_Satisfaction_Score  100 non-null    float64\n",
      "dtypes: float64(3), int64(6), object(3)\n",
      "memory usage: 9.5+ KB\n"
     ]
    }
   ],
   "source": [
    "df.info()"
   ]
  },
  {
   "cell_type": "markdown",
   "id": "228255d1",
   "metadata": {},
   "source": [
    "## Relatório Inicial das Informações"
   ]
  },
  {
   "cell_type": "markdown",
   "id": "ea19b3c8",
   "metadata": {},
   "source": [
    "- O dataset possui 12 variáveis, distribuídas entre variáveis de tempo, categóricas e numéricas.\n",
    "- O dataset não possui valores ausentes.\n",
    "- A base possui um total de 100 registros."
   ]
  },
  {
   "cell_type": "markdown",
   "id": "41ff1560",
   "metadata": {},
   "source": [
    "# Transformação necessária dos Dados "
   ]
  },
  {
   "cell_type": "code",
   "execution_count": 13,
   "id": "eaec9758",
   "metadata": {},
   "outputs": [],
   "source": [
    "# Cópia dos dados\n",
    "df2 = df.copy()"
   ]
  },
  {
   "cell_type": "code",
   "execution_count": 14,
   "id": "58058e3a",
   "metadata": {},
   "outputs": [],
   "source": [
    "# Transformação da variável Year de object para datetime\n",
    "df2[\"Year\"] = pd.to_datetime(df2[\"Year\"], format = \"%Y\")"
   ]
  },
  {
   "cell_type": "markdown",
   "id": "1c633943",
   "metadata": {},
   "source": [
    "# Análise Exploratória dos Dados"
   ]
  },
  {
   "cell_type": "code",
   "execution_count": 15,
   "id": "525ace47",
   "metadata": {},
   "outputs": [
    {
     "name": "stdout",
     "output_type": "stream",
     "text": [
      "Estatísticas descritivas para variáveis numéricas:\n",
      "\n",
      "                           count      mean          std     min        25%  \\\n",
      "Total_Audit_Engagements    100.0  2784.520  1281.863073  603.00  1768.2500   \n",
      "High_Risk_Cases            100.0   277.730   135.735174   51.00   162.5000   \n",
      "Compliance_Violations      100.0   105.480    55.370101   10.00    54.5000   \n",
      "Fraud_Cases_Detected       100.0    52.700    28.311221    5.00    27.0000   \n",
      "Total_Revenue_Impact       100.0   272.539   139.151401   33.46   155.2175   \n",
      "Employee_Workload          100.0    60.250    11.163048   40.00    52.7500   \n",
      "Audit_Effectiveness_Score  100.0     7.490     1.516209    5.00     6.1000   \n",
      "Client_Satisfaction_Score  100.0     7.339     1.429127    5.00     6.1000   \n",
      "\n",
      "                               50%       75%      max  \n",
      "Total_Audit_Engagements    2650.00  4008.750  4946.00  \n",
      "High_Risk_Cases             293.00   395.500   500.00  \n",
      "Compliance_Violations       114.50   149.500   200.00  \n",
      "Fraud_Cases_Detected         54.00    74.500   100.00  \n",
      "Total_Revenue_Impact        264.45   406.090   497.06  \n",
      "Employee_Workload            60.00    68.000    80.00  \n",
      "Audit_Effectiveness_Score     7.45     8.825    10.00  \n",
      "Client_Satisfaction_Score     7.35     8.525    10.00  \n"
     ]
    }
   ],
   "source": [
    "# Separando as colunas numéricas\n",
    "numericas = df2.select_dtypes(include=['int64', 'float64'])\n",
    "print(\"Estatísticas descritivas para variáveis numéricas:\\n\")\n",
    "print(numericas.describe().transpose())\n"
   ]
  },
  {
   "cell_type": "markdown",
   "id": "853857de",
   "metadata": {},
   "source": [
    "## Relatório Descritivo das Variáveis Numéricas\n",
    "\n",
    "Este relatório apresenta um resumo estatístico das variáveis numéricas do dataset sobre auditorias realizadas pelas Big 4 entre 2020 e 2025.\n",
    "\n",
    "### Visão Geral\n",
    "\n",
    "- Total de registros analisados: **100 linhas**\n",
    "- Todas as variáveis abaixo são de natureza quantitativa contínua e representam métricas de auditoria, risco e desempenho.\n",
    "\n",
    "---\n",
    "\n",
    "### 1. `Total_Audit_Engagements` – Total de Auditorias Realizadas\n",
    "\n",
    "- Média: **2.784 auditorias**\n",
    "- Mínimo: **603**\n",
    "- Máximo: **4.946**\n",
    "- Desvio padrão: **1.282**\n",
    "- 50% das firmas realizaram entre **1.768 e 4.008** auditorias por ano.\n",
    "\n",
    "**Observação:** Alta variação no número de auditorias indica que algumas firmas possuem maior capacidade operacional.\n",
    "\n",
    "---\n",
    "\n",
    "### 2. `High_Risk_Cases` – Casos de Alto Risco\n",
    "\n",
    "- Média: **278 casos**\n",
    "- Máximo: **500**\n",
    "- Desvio padrão: **135**\n",
    "- 75% dos valores estão abaixo de **396**\n",
    "\n",
    "**Observação:** Cerca de **10% das auditorias** em média são consideradas de alto risco.\n",
    "\n",
    "---\n",
    "\n",
    "### 3. `Compliance_Violations` – Violações de Conformidade\n",
    "\n",
    "- Média: **105**\n",
    "- Mediana: **114**\n",
    "- Desvio padrão: **55**\n",
    "- Intervalo interquartil (IQR): de **54** a **150**\n",
    "\n",
    "**Observação:** A maior parte das firmas tem até 150 violações por ano, mas há casos extremos com até **200**.\n",
    "\n",
    "---\n",
    "\n",
    "### 4. `Fraud_Cases_Detected` – Casos de Fraude Detectados\n",
    "\n",
    "- Média: **53**\n",
    "- Mínimo: **5**\n",
    "- Máximo: **100**\n",
    "- 75% dos valores estão abaixo de **75**\n",
    "\n",
    "**Observação:** Existe uma grande disparidade entre as firmas na detecção de fraudes. Pode refletir uso desigual de tecnologia (como IA) ou áreas com maior risco.\n",
    "\n",
    "---\n",
    "\n",
    "### 5. `Total_Revenue_Impact` – Impacto na Receita (USD milhões)\n",
    "\n",
    "- Média: **272 milhões**\n",
    "- Mediana: **264 milhões**\n",
    "- Mínimo: **33 milhões**\n",
    "- Máximo: **497 milhões**\n",
    "- Desvio padrão: **139 milhões**\n",
    "\n",
    "**Observação:** O impacto financeiro das falhas de conformidade ou fraudes pode ser extremamente alto em alguns setores/firmas.\n",
    "\n",
    "---\n",
    "\n",
    "### 6. `Employee_Workload` – Carga de Trabalho dos Funcionários (horas/semana)\n",
    "\n",
    "- Média: **60 horas**\n",
    "- Mínimo: **40h**, Máximo: **80h**\n",
    "- IQR: de **53h** a **68h**\n",
    "\n",
    "**Observação:** Os auditores estão, em média, sobrecarregados — indicando possíveis impactos na qualidade das auditorias.\n",
    "\n",
    "---\n",
    "\n",
    "### 7. `Audit_Effectiveness_Score` – Índice de Efetividade da Auditoria (0–10)\n",
    "\n",
    "- Média: **7,49**\n",
    "- Mediana: **7,45**\n",
    "- 25% mais eficazes têm nota acima de **8,8**\n",
    "\n",
    "**Observação:** A maior parte das auditorias está acima da média, mas poucas alcançam pontuação máxima.\n",
    "\n",
    "---\n",
    "\n",
    "### 8. `Client_Satisfaction_Score` – Satisfação do Cliente (0–10)\n",
    "\n",
    "- Média: **7,34**\n",
    "- Mediana: **7,35**\n",
    "- 75% das notas estão abaixo de **8,5**\n",
    "\n",
    "**Observação:** Existe correlação visual entre satisfação e efetividade. Pode ser explorada mais a fundo.\n",
    "\n",
    "---\n",
    "\n",
    "### Considerações Finais\n",
    "\n",
    "- A base de dados apresenta boa distribuição e completude.\n",
    "- Há forte dispersão em variáveis como auditorias realizadas, impacto financeiro e carga de trabalho.\n",
    "- As métricas de desempenho (efetividade e satisfação) estão centradas em torno de **7,3 a 7,5**, com oportunidade de melhora.\n",
    "\n",
    "\n"
   ]
  },
  {
   "cell_type": "code",
   "execution_count": 16,
   "id": "8cca841b",
   "metadata": {},
   "outputs": [
    {
     "name": "stdout",
     "output_type": "stream",
     "text": [
      "\n",
      " Estatísticas descritivas para variáveis categóricas:\n",
      "\n",
      "                     count unique       top freq\n",
      "Firm_Name              100      4  Deloitte   30\n",
      "Industry_Affected      100      4      Tech   29\n",
      "AI_Used_for_Auditing   100      2        No   55\n"
     ]
    }
   ],
   "source": [
    "# Separando as colunas categóricas (object ou string)\n",
    "categoricas = df2.select_dtypes(include=['object', 'category'])\n",
    "print(\"\\n Estatísticas descritivas para variáveis categóricas:\\n\")\n",
    "print(categoricas.describe().transpose())"
   ]
  },
  {
   "cell_type": "markdown",
   "id": "a0948f98",
   "metadata": {},
   "source": [
    "## Relatório Descritivo das Variáveis Categóricas\n",
    "\n",
    "Este relatório apresenta um resumo estatístico das variáveis categóricas do dataset de auditoria nas Big 4 entre 2020 e 2025. As colunas analisadas incluem o nome da firma, setor auditado e uso de inteligência artificial nas auditorias.\n",
    "\n",
    "---\n",
    "\n",
    "### 1. `Firm_Name` – Nome da Firma de Auditoria\n",
    "\n",
    "- Total de registros: **100**\n",
    "- Quantidade de firmas únicas: **4**\n",
    "- Firma mais frequente: **Deloitte**\n",
    "- Frequência: **30 ocorrências**\n",
    "\n",
    "**Observação:** A presença das 4 firmas (Deloitte, EY, PwC, KPMG) está bem distribuída, mas a **Deloitte** aparece em **30% dos registros**, o que pode indicar maior volume de auditorias ou destaque no dataset.\n",
    "\n",
    "---\n",
    "\n",
    "### 2. `Industry_Affected` – Setor da Empresa Auditada\n",
    "\n",
    "- Total de registros: **100**\n",
    "- Setores únicos: **4**\n",
    "- Setor mais frequente: **Tech (Tecnologia)**\n",
    "- Frequência: **29 ocorrências**\n",
    "\n",
    "**Observação:** O setor de **Tecnologia** lidera em número de auditorias, seguido provavelmente por Finanças, Varejo e Saúde (não listados, mas esperados). Esse foco pode refletir maior atenção regulatória ou maior número de riscos nesse setor.\n",
    "\n",
    "---\n",
    "\n",
    "### 3. `AI_Used_for_Auditing` – Uso de IA na Auditoria\n",
    "\n",
    "- Total de registros: **100**\n",
    "- Valores únicos: **2** (`Yes`, `No`)\n",
    "- Valor mais frequente: **No**\n",
    "- Frequência: **55 registros**\n",
    "\n",
    "**Observação:** A maioria das auditorias **não utilizou Inteligência Artificial** (`55%`). Isso sugere que a adoção de IA ainda está em processo de crescimento e pode estar relacionada a fatores como tipo de firma, setor ou volume de dados.\n",
    "\n",
    "---\n",
    "\n",
    "### Conclusões\n",
    "\n",
    "- A **Deloitte** e o setor **Tech** são os mais representados neste conjunto de dados.\n",
    "- Ainda existe uma divisão equilibrada entre auditorias com e sem uso de **IA**, permitindo análise comparativa de desempenho.\n",
    "- Todas as variáveis categóricas apresentam **boa variabilidade**, sem valores faltantes ou inválidos.\n",
    "\n"
   ]
  },
  {
   "cell_type": "markdown",
   "id": "082d461c",
   "metadata": {},
   "source": [
    "# Perguntas de Negócio"
   ]
  },
  {
   "cell_type": "markdown",
   "id": "5324252b",
   "metadata": {},
   "source": []
  },
  {
   "cell_type": "markdown",
   "id": "de2d9fae",
   "metadata": {},
   "source": []
  }
 ],
 "metadata": {
  "kernelspec": {
   "display_name": ".venv",
   "language": "python",
   "name": "python3"
  },
  "language_info": {
   "codemirror_mode": {
    "name": "ipython",
    "version": 3
   },
   "file_extension": ".py",
   "mimetype": "text/x-python",
   "name": "python",
   "nbconvert_exporter": "python",
   "pygments_lexer": "ipython3",
   "version": "3.13.5"
  }
 },
 "nbformat": 4,
 "nbformat_minor": 5
}
